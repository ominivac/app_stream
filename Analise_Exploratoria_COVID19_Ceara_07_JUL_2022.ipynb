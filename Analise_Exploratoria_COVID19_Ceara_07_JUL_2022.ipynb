{
  "nbformat": 4,
  "nbformat_minor": 0,
  "metadata": {
    "colab": {
      "name": " Analise Exploratoria COVID19 Ceara - 07_JUL_2022.ipynb",
      "provenance": [],
      "collapsed_sections": []
    },
    "kernelspec": {
      "name": "python3",
      "display_name": "Python 3"
    },
    "language_info": {
      "name": "python"
    }
  },
  "cells": [
    {
      "cell_type": "markdown",
      "metadata": {
        "id": "kE_6lZ6UiYhe"
      },
      "source": [
        "#  Apresentação :\n",
        "**Notebook Pandas para Análise Descritiva - Hackaton SERPRO 2021**\n",
        "Fonte dos dados analisados :  http://download-integrasus.saude.ce.gov.br/download\n",
        "\n",
        "Dados : 07 JULHO 2022\n",
        "\n",
        "\n",
        "Disponível em: https://colab.research.google.com/drive/1Swf7HI5Q581_okqqXCpKhh98z2HgA62C?usp=sharing\n"
      ]
    },
    {
      "cell_type": "markdown",
      "metadata": {
        "id": "-Wv9bibUmSkn"
      },
      "source": [
        "#Importação das bibliotecas necessárias"
      ]
    },
    {
      "cell_type": "code",
      "metadata": {
        "id": "dG9niUdFirLH"
      },
      "source": [
        "import numpy as np\n",
        "import pandas as pd\n",
        "import gc\n",
        "\n",
        "import glob\n",
        "\n",
        "import os\n",
        "\n",
        "import calendar\n",
        "\n",
        "from datetime import *\n",
        "import plotly.express as px\n",
        "\n",
        "from plotly.subplots import make_subplots\n",
        "\n",
        "import plotly.graph_objects as go"
      ],
      "execution_count": null,
      "outputs": []
    },
    {
      "cell_type": "markdown",
      "metadata": {
        "id": "TnAATDsumZ_G"
      },
      "source": [
        "# Leitura , limpeza e tratamento dos dados"
      ]
    },
    {
      "cell_type": "code",
      "metadata": {
        "id": "FPNMOmFWmWaB",
        "colab": {
          "base_uri": "https://localhost:8080/"
        },
        "outputId": "a396170c-c5fb-4821-d682-2c3ee5db111a"
      },
      "source": [
        "# Necessário para leitura do google drive\n",
        "from google.colab import drive\n",
        "drive.mount('/content/drive')"
      ],
      "execution_count": null,
      "outputs": [
        {
          "output_type": "stream",
          "name": "stdout",
          "text": [
            "Mounted at /content/drive\n"
          ]
        }
      ]
    },
    {
      "cell_type": "code",
      "source": [
        "path = '/content/drive/My Drive/IntegraSUS/download_0707/casos/'    # use your path\n",
        "\n",
        "arr = os.listdir(path)\n",
        "\n",
        "print(arr)\n",
        "\n",
        "\n"
      ],
      "metadata": {
        "id": "7-imS4ObxFWg",
        "colab": {
          "base_uri": "https://localhost:8080/"
        },
        "outputId": "4d1e1064-d071-4484-b23c-ff7e1428fa1d"
      },
      "execution_count": null,
      "outputs": [
        {
          "output_type": "stream",
          "name": "stdout",
          "text": [
            "['casos_coronavirus_2022_07_07_0.csv', 'casos_coronavirus_2022_07_07_1.csv', 'casos_coronavirus_2022_07_07_2.csv', 'casos_coronavirus_2022_07_07_3.csv', 'casos_coronavirus_2022_07_07_4.csv', 'casos_coronavirus_2022_07_07_5.csv', 'casos_coronavirus_2022_07_07_6.csv', 'casos_coronavirus_2022_07_07_7.csv', 'casos_coronavirus_2022_07_07_8.csv', 'casos_coronavirus_2022_07_07_9.csv', 'casos_coronavirus_2022_07_07_10.csv', 'casos_coronavirus_2022_07_07_11.csv', 'casos_coronavirus_2022_07_07_12.csv', 'casos_coronavirus_2022_07_07_13.csv', 'casos_coronavirus_2022_07_07_14.csv', 'casos_coronavirus_2022_07_07_15.csv', 'casos_coronavirus_2022_07_07_16.csv', 'casos_coronavirus_2022_07_07_17.csv', 'casos_coronavirus_2022_07_07_18.csv']\n"
          ]
        }
      ]
    },
    {
      "cell_type": "code",
      "source": [
        "\n",
        "all_files = glob.glob(os.path.join(path, \"*.csv\"))                             # advisable to use os.path.join as this makes concatenation OS independent\n",
        "\n",
        "print(all_files)"
      ],
      "metadata": {
        "id": "Qr320oGm3hB8",
        "colab": {
          "base_uri": "https://localhost:8080/"
        },
        "outputId": "9fd20d99-03b8-44ed-f0e5-17853c900f5a"
      },
      "execution_count": null,
      "outputs": [
        {
          "output_type": "stream",
          "name": "stdout",
          "text": [
            "['/content/drive/My Drive/IntegraSUS/download_0707/casos/casos_coronavirus_2022_07_07_0.csv', '/content/drive/My Drive/IntegraSUS/download_0707/casos/casos_coronavirus_2022_07_07_1.csv', '/content/drive/My Drive/IntegraSUS/download_0707/casos/casos_coronavirus_2022_07_07_2.csv', '/content/drive/My Drive/IntegraSUS/download_0707/casos/casos_coronavirus_2022_07_07_3.csv', '/content/drive/My Drive/IntegraSUS/download_0707/casos/casos_coronavirus_2022_07_07_4.csv', '/content/drive/My Drive/IntegraSUS/download_0707/casos/casos_coronavirus_2022_07_07_5.csv', '/content/drive/My Drive/IntegraSUS/download_0707/casos/casos_coronavirus_2022_07_07_6.csv', '/content/drive/My Drive/IntegraSUS/download_0707/casos/casos_coronavirus_2022_07_07_7.csv', '/content/drive/My Drive/IntegraSUS/download_0707/casos/casos_coronavirus_2022_07_07_8.csv', '/content/drive/My Drive/IntegraSUS/download_0707/casos/casos_coronavirus_2022_07_07_9.csv', '/content/drive/My Drive/IntegraSUS/download_0707/casos/casos_coronavirus_2022_07_07_10.csv', '/content/drive/My Drive/IntegraSUS/download_0707/casos/casos_coronavirus_2022_07_07_11.csv', '/content/drive/My Drive/IntegraSUS/download_0707/casos/casos_coronavirus_2022_07_07_12.csv', '/content/drive/My Drive/IntegraSUS/download_0707/casos/casos_coronavirus_2022_07_07_13.csv', '/content/drive/My Drive/IntegraSUS/download_0707/casos/casos_coronavirus_2022_07_07_14.csv', '/content/drive/My Drive/IntegraSUS/download_0707/casos/casos_coronavirus_2022_07_07_15.csv', '/content/drive/My Drive/IntegraSUS/download_0707/casos/casos_coronavirus_2022_07_07_16.csv', '/content/drive/My Drive/IntegraSUS/download_0707/casos/casos_coronavirus_2022_07_07_17.csv', '/content/drive/My Drive/IntegraSUS/download_0707/casos/casos_coronavirus_2022_07_07_18.csv']\n"
          ]
        }
      ]
    },
    {
      "cell_type": "code",
      "source": [
        "\n",
        "df_from_each_file = (pd.read_csv(f, low_memory=False, sep=';') for f in all_files)\n",
        "#concatenated_df   = pd.concat(df_from_each_file, ignore_index=True)\n",
        "df  = pd.concat(df_from_each_file, ignore_index=True)"
      ],
      "metadata": {
        "id": "Ssp9tXJz1X7h"
      },
      "execution_count": null,
      "outputs": []
    },
    {
      "cell_type": "code",
      "source": [
        "df.head(5)"
      ],
      "metadata": {
        "id": "nN-xQmL4ax3T",
        "colab": {
          "base_uri": "https://localhost:8080/",
          "height": 334
        },
        "outputId": "b011b527-efcd-4031-c2fb-512c12d78bb5"
      },
      "execution_count": null,
      "outputs": [
        {
          "output_type": "execute_result",
          "data": {
            "text/plain": [
              "                  identificadorCaso  idRedcap         idEsus  idSivep  \\\n",
              "0  000002182ed44c4f90337cff168ef7d4       NaN            NaN      NaN   \n",
              "1  00000bbebd8f15eb70ffb2cb818a75e2       NaN  2322128138238      NaN   \n",
              "2  00000f7085d163cfc29ab2db7647d820       NaN   232180236470      NaN   \n",
              "3  00001006ad7d59c1cce6cd8602e11a1f       NaN      202015800      NaN   \n",
              "4  000013df7b75d6eab83906ac805cbb26       NaN   232168422763      NaN   \n",
              "\n",
              "   classificacaoEstadoRedcap classificacaoEstadoEsus classificacaoFinalEsus  \\\n",
              "0                        NaN                     NaN                    NaN   \n",
              "1                        NaN                     NaN                    NaN   \n",
              "2                        NaN          Não detectável                    NaN   \n",
              "3                        NaN                     NaN             Descartado   \n",
              "4                        NaN                     NaN                    NaN   \n",
              "\n",
              "  evolucaoCasoEsus cboEsus profissionalSaudeEsus  ...  \\\n",
              "0              NaN     NaN                   NaN  ...   \n",
              "1              NaN     NaN                 False  ...   \n",
              "2              NaN     NaN                 False  ...   \n",
              "3              NaN     NaN                 False  ...   \n",
              "4              NaN     NaN                 False  ...   \n",
              "\n",
              "  municipioNotificacaoEsus tipoObitoMaterno  classificacaoFinalCasoSivep  \\\n",
              "0                      NaN              NaN                          NaN   \n",
              "1                FORTALEZA              NaN                          NaN   \n",
              "2                MARACANAU              NaN                          NaN   \n",
              "3                FORTALEZA              NaN                          NaN   \n",
              "4                FORTALEZA              NaN                          NaN   \n",
              "\n",
              "  gestante            tipoTesteEsus  obitoConfirmado dataObito  \\\n",
              "0      NaN                      NaN              NaN       NaN   \n",
              "1    False                      NaN              NaN       NaN   \n",
              "2    False  TESTE RÁPIDO - ANTÍGENO              NaN       NaN   \n",
              "3    False                      NaN              NaN       NaN   \n",
              "4    False                   RT-PCR              NaN       NaN   \n",
              "\n",
              "   classificacaoObito localObito tipoLocalObito  \n",
              "0                 NaN        NaN            NaN  \n",
              "1                 NaN        NaN            NaN  \n",
              "2                 NaN        NaN            NaN  \n",
              "3                 NaN        NaN            NaN  \n",
              "4                 NaN        NaN            NaN  \n",
              "\n",
              "[5 rows x 62 columns]"
            ],
            "text/html": [
              "\n",
              "  <div id=\"df-454f9966-880b-49fd-89bc-39e7a180dc96\">\n",
              "    <div class=\"colab-df-container\">\n",
              "      <div>\n",
              "<style scoped>\n",
              "    .dataframe tbody tr th:only-of-type {\n",
              "        vertical-align: middle;\n",
              "    }\n",
              "\n",
              "    .dataframe tbody tr th {\n",
              "        vertical-align: top;\n",
              "    }\n",
              "\n",
              "    .dataframe thead th {\n",
              "        text-align: right;\n",
              "    }\n",
              "</style>\n",
              "<table border=\"1\" class=\"dataframe\">\n",
              "  <thead>\n",
              "    <tr style=\"text-align: right;\">\n",
              "      <th></th>\n",
              "      <th>identificadorCaso</th>\n",
              "      <th>idRedcap</th>\n",
              "      <th>idEsus</th>\n",
              "      <th>idSivep</th>\n",
              "      <th>classificacaoEstadoRedcap</th>\n",
              "      <th>classificacaoEstadoEsus</th>\n",
              "      <th>classificacaoFinalEsus</th>\n",
              "      <th>evolucaoCasoEsus</th>\n",
              "      <th>cboEsus</th>\n",
              "      <th>profissionalSaudeEsus</th>\n",
              "      <th>...</th>\n",
              "      <th>municipioNotificacaoEsus</th>\n",
              "      <th>tipoObitoMaterno</th>\n",
              "      <th>classificacaoFinalCasoSivep</th>\n",
              "      <th>gestante</th>\n",
              "      <th>tipoTesteEsus</th>\n",
              "      <th>obitoConfirmado</th>\n",
              "      <th>dataObito</th>\n",
              "      <th>classificacaoObito</th>\n",
              "      <th>localObito</th>\n",
              "      <th>tipoLocalObito</th>\n",
              "    </tr>\n",
              "  </thead>\n",
              "  <tbody>\n",
              "    <tr>\n",
              "      <th>0</th>\n",
              "      <td>000002182ed44c4f90337cff168ef7d4</td>\n",
              "      <td>NaN</td>\n",
              "      <td>NaN</td>\n",
              "      <td>NaN</td>\n",
              "      <td>NaN</td>\n",
              "      <td>NaN</td>\n",
              "      <td>NaN</td>\n",
              "      <td>NaN</td>\n",
              "      <td>NaN</td>\n",
              "      <td>NaN</td>\n",
              "      <td>...</td>\n",
              "      <td>NaN</td>\n",
              "      <td>NaN</td>\n",
              "      <td>NaN</td>\n",
              "      <td>NaN</td>\n",
              "      <td>NaN</td>\n",
              "      <td>NaN</td>\n",
              "      <td>NaN</td>\n",
              "      <td>NaN</td>\n",
              "      <td>NaN</td>\n",
              "      <td>NaN</td>\n",
              "    </tr>\n",
              "    <tr>\n",
              "      <th>1</th>\n",
              "      <td>00000bbebd8f15eb70ffb2cb818a75e2</td>\n",
              "      <td>NaN</td>\n",
              "      <td>2322128138238</td>\n",
              "      <td>NaN</td>\n",
              "      <td>NaN</td>\n",
              "      <td>NaN</td>\n",
              "      <td>NaN</td>\n",
              "      <td>NaN</td>\n",
              "      <td>NaN</td>\n",
              "      <td>False</td>\n",
              "      <td>...</td>\n",
              "      <td>FORTALEZA</td>\n",
              "      <td>NaN</td>\n",
              "      <td>NaN</td>\n",
              "      <td>False</td>\n",
              "      <td>NaN</td>\n",
              "      <td>NaN</td>\n",
              "      <td>NaN</td>\n",
              "      <td>NaN</td>\n",
              "      <td>NaN</td>\n",
              "      <td>NaN</td>\n",
              "    </tr>\n",
              "    <tr>\n",
              "      <th>2</th>\n",
              "      <td>00000f7085d163cfc29ab2db7647d820</td>\n",
              "      <td>NaN</td>\n",
              "      <td>232180236470</td>\n",
              "      <td>NaN</td>\n",
              "      <td>NaN</td>\n",
              "      <td>Não detectável</td>\n",
              "      <td>NaN</td>\n",
              "      <td>NaN</td>\n",
              "      <td>NaN</td>\n",
              "      <td>False</td>\n",
              "      <td>...</td>\n",
              "      <td>MARACANAU</td>\n",
              "      <td>NaN</td>\n",
              "      <td>NaN</td>\n",
              "      <td>False</td>\n",
              "      <td>TESTE RÁPIDO - ANTÍGENO</td>\n",
              "      <td>NaN</td>\n",
              "      <td>NaN</td>\n",
              "      <td>NaN</td>\n",
              "      <td>NaN</td>\n",
              "      <td>NaN</td>\n",
              "    </tr>\n",
              "    <tr>\n",
              "      <th>3</th>\n",
              "      <td>00001006ad7d59c1cce6cd8602e11a1f</td>\n",
              "      <td>NaN</td>\n",
              "      <td>202015800</td>\n",
              "      <td>NaN</td>\n",
              "      <td>NaN</td>\n",
              "      <td>NaN</td>\n",
              "      <td>Descartado</td>\n",
              "      <td>NaN</td>\n",
              "      <td>NaN</td>\n",
              "      <td>False</td>\n",
              "      <td>...</td>\n",
              "      <td>FORTALEZA</td>\n",
              "      <td>NaN</td>\n",
              "      <td>NaN</td>\n",
              "      <td>False</td>\n",
              "      <td>NaN</td>\n",
              "      <td>NaN</td>\n",
              "      <td>NaN</td>\n",
              "      <td>NaN</td>\n",
              "      <td>NaN</td>\n",
              "      <td>NaN</td>\n",
              "    </tr>\n",
              "    <tr>\n",
              "      <th>4</th>\n",
              "      <td>000013df7b75d6eab83906ac805cbb26</td>\n",
              "      <td>NaN</td>\n",
              "      <td>232168422763</td>\n",
              "      <td>NaN</td>\n",
              "      <td>NaN</td>\n",
              "      <td>NaN</td>\n",
              "      <td>NaN</td>\n",
              "      <td>NaN</td>\n",
              "      <td>NaN</td>\n",
              "      <td>False</td>\n",
              "      <td>...</td>\n",
              "      <td>FORTALEZA</td>\n",
              "      <td>NaN</td>\n",
              "      <td>NaN</td>\n",
              "      <td>False</td>\n",
              "      <td>RT-PCR</td>\n",
              "      <td>NaN</td>\n",
              "      <td>NaN</td>\n",
              "      <td>NaN</td>\n",
              "      <td>NaN</td>\n",
              "      <td>NaN</td>\n",
              "    </tr>\n",
              "  </tbody>\n",
              "</table>\n",
              "<p>5 rows × 62 columns</p>\n",
              "</div>\n",
              "      <button class=\"colab-df-convert\" onclick=\"convertToInteractive('df-454f9966-880b-49fd-89bc-39e7a180dc96')\"\n",
              "              title=\"Convert this dataframe to an interactive table.\"\n",
              "              style=\"display:none;\">\n",
              "        \n",
              "  <svg xmlns=\"http://www.w3.org/2000/svg\" height=\"24px\"viewBox=\"0 0 24 24\"\n",
              "       width=\"24px\">\n",
              "    <path d=\"M0 0h24v24H0V0z\" fill=\"none\"/>\n",
              "    <path d=\"M18.56 5.44l.94 2.06.94-2.06 2.06-.94-2.06-.94-.94-2.06-.94 2.06-2.06.94zm-11 1L8.5 8.5l.94-2.06 2.06-.94-2.06-.94L8.5 2.5l-.94 2.06-2.06.94zm10 10l.94 2.06.94-2.06 2.06-.94-2.06-.94-.94-2.06-.94 2.06-2.06.94z\"/><path d=\"M17.41 7.96l-1.37-1.37c-.4-.4-.92-.59-1.43-.59-.52 0-1.04.2-1.43.59L10.3 9.45l-7.72 7.72c-.78.78-.78 2.05 0 2.83L4 21.41c.39.39.9.59 1.41.59.51 0 1.02-.2 1.41-.59l7.78-7.78 2.81-2.81c.8-.78.8-2.07 0-2.86zM5.41 20L4 18.59l7.72-7.72 1.47 1.35L5.41 20z\"/>\n",
              "  </svg>\n",
              "      </button>\n",
              "      \n",
              "  <style>\n",
              "    .colab-df-container {\n",
              "      display:flex;\n",
              "      flex-wrap:wrap;\n",
              "      gap: 12px;\n",
              "    }\n",
              "\n",
              "    .colab-df-convert {\n",
              "      background-color: #E8F0FE;\n",
              "      border: none;\n",
              "      border-radius: 50%;\n",
              "      cursor: pointer;\n",
              "      display: none;\n",
              "      fill: #1967D2;\n",
              "      height: 32px;\n",
              "      padding: 0 0 0 0;\n",
              "      width: 32px;\n",
              "    }\n",
              "\n",
              "    .colab-df-convert:hover {\n",
              "      background-color: #E2EBFA;\n",
              "      box-shadow: 0px 1px 2px rgba(60, 64, 67, 0.3), 0px 1px 3px 1px rgba(60, 64, 67, 0.15);\n",
              "      fill: #174EA6;\n",
              "    }\n",
              "\n",
              "    [theme=dark] .colab-df-convert {\n",
              "      background-color: #3B4455;\n",
              "      fill: #D2E3FC;\n",
              "    }\n",
              "\n",
              "    [theme=dark] .colab-df-convert:hover {\n",
              "      background-color: #434B5C;\n",
              "      box-shadow: 0px 1px 3px 1px rgba(0, 0, 0, 0.15);\n",
              "      filter: drop-shadow(0px 1px 2px rgba(0, 0, 0, 0.3));\n",
              "      fill: #FFFFFF;\n",
              "    }\n",
              "  </style>\n",
              "\n",
              "      <script>\n",
              "        const buttonEl =\n",
              "          document.querySelector('#df-454f9966-880b-49fd-89bc-39e7a180dc96 button.colab-df-convert');\n",
              "        buttonEl.style.display =\n",
              "          google.colab.kernel.accessAllowed ? 'block' : 'none';\n",
              "\n",
              "        async function convertToInteractive(key) {\n",
              "          const element = document.querySelector('#df-454f9966-880b-49fd-89bc-39e7a180dc96');\n",
              "          const dataTable =\n",
              "            await google.colab.kernel.invokeFunction('convertToInteractive',\n",
              "                                                     [key], {});\n",
              "          if (!dataTable) return;\n",
              "\n",
              "          const docLinkHtml = 'Like what you see? Visit the ' +\n",
              "            '<a target=\"_blank\" href=https://colab.research.google.com/notebooks/data_table.ipynb>data table notebook</a>'\n",
              "            + ' to learn more about interactive tables.';\n",
              "          element.innerHTML = '';\n",
              "          dataTable['output_type'] = 'display_data';\n",
              "          await google.colab.output.renderOutput(dataTable, element);\n",
              "          const docLink = document.createElement('div');\n",
              "          docLink.innerHTML = docLinkHtml;\n",
              "          element.appendChild(docLink);\n",
              "        }\n",
              "      </script>\n",
              "    </div>\n",
              "  </div>\n",
              "  "
            ]
          },
          "metadata": {},
          "execution_count": 6
        }
      ]
    },
    {
      "cell_type": "code",
      "metadata": {
        "id": "vMvaRa3HxHdF",
        "colab": {
          "base_uri": "https://localhost:8080/"
        },
        "outputId": "1a108276-c0f9-4cd1-e9e0-bbc05252ca55"
      },
      "source": [
        "df.dtypes"
      ],
      "execution_count": null,
      "outputs": [
        {
          "output_type": "execute_result",
          "data": {
            "text/plain": [
              "identificadorCaso             object\n",
              "idRedcap                     float64\n",
              "idEsus                        object\n",
              "idSivep                      float64\n",
              "classificacaoEstadoRedcap    float64\n",
              "                              ...   \n",
              "obitoConfirmado               object\n",
              "dataObito                     object\n",
              "classificacaoObito            object\n",
              "localObito                    object\n",
              "tipoLocalObito                object\n",
              "Length: 62, dtype: object"
            ]
          },
          "metadata": {},
          "execution_count": 8
        }
      ]
    },
    {
      "cell_type": "code",
      "metadata": {
        "id": "AjAHVjm2vAD5"
      },
      "source": [
        "# Tranformar as col. de data no tipo certo\n",
        "df[[\"dataNotificacao\",\"dataSolicitacaoExame\",\"dataResultadoExame\",\"dataColetaExame\",\"dataInicioSintomas\", \"dataObito\", \"dataNotificacaoObito\"]] =  df[[\"dataNotificacao\",\"dataSolicitacaoExame\",\"dataResultadoExame\",\"dataColetaExame\",\"dataInicioSintomas\", \"dataObito\", \"dataNotificacaoObito\"]].apply(pd.to_datetime,  errors='coerce')"
      ],
      "execution_count": null,
      "outputs": []
    },
    {
      "cell_type": "code",
      "source": [
        "df.dtypes"
      ],
      "metadata": {
        "colab": {
          "base_uri": "https://localhost:8080/"
        },
        "id": "5fVGkQRzNNfM",
        "outputId": "4f89f675-f3c0-49e0-86ac-80476e990b17"
      },
      "execution_count": null,
      "outputs": [
        {
          "output_type": "execute_result",
          "data": {
            "text/plain": [
              "identificadorCaso                    object\n",
              "idRedcap                            float64\n",
              "idEsus                               object\n",
              "idSivep                             float64\n",
              "classificacaoEstadoRedcap           float64\n",
              "                                  ...      \n",
              "obitoConfirmado                      object\n",
              "dataObito                    datetime64[ns]\n",
              "classificacaoObito                   object\n",
              "localObito                           object\n",
              "tipoLocalObito                       object\n",
              "Length: 62, dtype: object"
            ]
          },
          "metadata": {},
          "execution_count": 10
        }
      ]
    },
    {
      "cell_type": "code",
      "metadata": {
        "id": "tForfDcuzae2"
      },
      "source": [
        " # Ver distribuição de atributos\n",
        "#df['racaCor'].unique().tolist()\n",
        "#df['tipoTesteExame'].unique().tolist()\n",
        "#df['evolucaoCasoSivep'].unique().tolist()\n",
        "#df['faixaEtaria'].unique().tolist()\n",
        "#df['tipoTesteExame'].unique().tolist()\n",
        "#df['resultadoFinalExame'].unique().tolist()\n",
        "#df['evolucaoCasoEsus'].unique().tolist()\n",
        "\n",
        "# Alterar onde for nan para Não Informado\n",
        "df['racaCor'] = df['racaCor'].fillna('Não Informado')"
      ],
      "execution_count": null,
      "outputs": []
    },
    {
      "cell_type": "markdown",
      "metadata": {
        "id": "UXYlLW6R1nWC"
      },
      "source": [
        "**Nova coluna quantidade de óbito para cada dia, visto que em um mesmo dia há mais de um óbito**"
      ]
    },
    {
      "cell_type": "code",
      "metadata": {
        "id": "l4jnUJCf1kMT"
      },
      "source": [
        "# Como cada dia representa um óbito, criar nova coluna para cada registro somente HUM por registro \n",
        "df['qtObito'] = np.where(df['obitoConfirmado'] == True, 1, 0)"
      ],
      "execution_count": null,
      "outputs": []
    },
    {
      "cell_type": "markdown",
      "metadata": {
        "id": "EbQpliiN1te6"
      },
      "source": [
        "**Nova coluna quantidade de casos confirmados para cada dia, visto que em um mesmo dia há mais de um caso confirmado**"
      ]
    },
    {
      "cell_type": "code",
      "metadata": {
        "id": "aLxZD0AP1q4W"
      },
      "source": [
        "# Nova coluna para somar de casos confirmados SEM óbito\n",
        "df['qtCasoConfirmado'] = np.where(  ( df['resultadoFinalExame'] == 'Positivo')  , 1, 0) "
      ],
      "execution_count": null,
      "outputs": []
    },
    {
      "cell_type": "markdown",
      "metadata": {
        "id": "sGohBi621z1A"
      },
      "source": [
        "**Nova coluna quantidade de casos confirmados SEM ÓBITO**"
      ]
    },
    {
      "cell_type": "code",
      "metadata": {
        "id": "JLJc8PWx1xMj"
      },
      "source": [
        "# Nova coluna para somar de casos confirmados SEM óbito\n",
        "df['qtCasoConfirmadoSemObito'] = np.where(  ( df['resultadoFinalExame'] == 'Positivo')  & ( df['evolucaoCasoEsus'] == 'Cura' ) , 1, 0) "
      ],
      "execution_count": null,
      "outputs": []
    },
    {
      "cell_type": "markdown",
      "metadata": {
        "id": "Y-CIDeQJ1-9v"
      },
      "source": [
        "# Geração de novos datasets para gráficos"
      ]
    },
    {
      "cell_type": "markdown",
      "metadata": {
        "id": "0Os9yE4u2ogR"
      },
      "source": [
        "**CRIAÇÃO DE NOVO DATASET PARA CASOS CONFIRMADOS QUE PODEM OU NÃO TER EVOLUÍDOS PRA ÓBITOS**"
      ]
    },
    {
      "cell_type": "code",
      "metadata": {
        "id": "gGGX6v-b133J"
      },
      "source": [
        "df_confirmados = df[ df['resultadoFinalExame'] == 'Positivo'  ]\n",
        "#df_confirmados.sort_values(by=\"dataObito\").head(3)"
      ],
      "execution_count": null,
      "outputs": []
    },
    {
      "cell_type": "markdown",
      "metadata": {
        "id": "5-Misfja2uxy"
      },
      "source": [
        "**CRIAÇÃO DE NOVO DATASET PARA CASOS CONFIRMADOS COM ÓBITO**"
      ]
    },
    {
      "cell_type": "code",
      "metadata": {
        "id": "0y1FItPV2rgd"
      },
      "source": [
        "df_obitos = df[ df['obitoConfirmado'] == True]\n",
        "#df_obitos.sort_values(by=\"dataObito\").head(3)"
      ],
      "execution_count": null,
      "outputs": []
    },
    {
      "cell_type": "code",
      "metadata": {
        "id": "iJJYiDfh2xdZ"
      },
      "source": [
        "# Novo df para geração do gráfico de total de óbitos\n",
        "df_gr_obito = df_obitos.groupby('dataObito', sort=False)[\"qtObito\"].sum().reset_index(name ='total_obito_dia')\n",
        "df_gr_obito.sort_values('dataObito', inplace= True)"
      ],
      "execution_count": null,
      "outputs": []
    },
    {
      "cell_type": "code",
      "metadata": {
        "id": "kuMJJfUQ207C"
      },
      "source": [
        "# Calcular a media movel por semana\n",
        "df_gr_obito['MA7'] = df_gr_obito.iloc[:,1].rolling(window=7).mean()"
      ],
      "execution_count": null,
      "outputs": []
    },
    {
      "cell_type": "code",
      "metadata": {
        "id": "6BkXDAQ422-5"
      },
      "source": [
        "# Calcular a media movel por mes\n",
        "df_gr_obito['MA30'] = df_gr_obito.iloc[:,2].rolling(window=30).mean()"
      ],
      "execution_count": null,
      "outputs": []
    },
    {
      "cell_type": "code",
      "metadata": {
        "id": "qBGjygib3A97"
      },
      "source": [
        "df_gr_obito['total_acumulado_obito'] = df_gr_obito['total_obito_dia'].cumsum()\n",
        "#df_gr_obito"
      ],
      "execution_count": null,
      "outputs": []
    },
    {
      "cell_type": "code",
      "metadata": {
        "id": "2EljNGA13EOu"
      },
      "source": [
        "df_graf_ob_faixa_idade = df_obitos.groupby(['dataObito','faixaEtaria'])[\"qtObito\"].sum().reset_index(name ='total_dia')\n",
        "#df_graf_ob_faixa_idade"
      ],
      "execution_count": null,
      "outputs": []
    },
    {
      "cell_type": "code",
      "metadata": {
        "id": "qucAeIwa3Jiw"
      },
      "source": [
        "df_graf_ob_faixa_idade['mes'] = ''\n",
        "df_graf_ob_faixa_idade['ano'] = ''"
      ],
      "execution_count": null,
      "outputs": []
    },
    {
      "cell_type": "code",
      "metadata": {
        "id": "Z-9lX82W3M3-"
      },
      "source": [
        "df_graf_ob_faixa_idade['mes'] = pd.to_datetime(df_graf_ob_faixa_idade['dataObito'], format='%m').dt.month_name().str.slice(stop=3)\n",
        "df_graf_ob_faixa_idade['ano'] = pd.to_datetime(df_graf_ob_faixa_idade['dataObito'], format='%y').dt.year"
      ],
      "execution_count": null,
      "outputs": []
    },
    {
      "cell_type": "code",
      "metadata": {
        "id": "E64vqHZI3Ose"
      },
      "source": [
        "df_graf_ob_faixa_idade['short_date'] = ''\n",
        "df_graf_ob_faixa_idade[\"short_date\"].apply(pd.to_datetime,  errors='coerce')"
      ],
      "execution_count": null,
      "outputs": []
    },
    {
      "cell_type": "code",
      "metadata": {
        "id": "mRHgx2bS3SUa"
      },
      "source": [
        "df_graf_ob_faixa_idade['short_date'] =  df_graf_ob_faixa_idade['dataObito'].dt.strftime('%m/%Y')"
      ],
      "execution_count": null,
      "outputs": []
    },
    {
      "cell_type": "code",
      "metadata": {
        "id": "EtJ8A-QC3VYp"
      },
      "source": [
        "df_graf_ob_faixa_idade[\"short_date\"].apply(pd.to_datetime,  errors='coerce')"
      ],
      "execution_count": null,
      "outputs": []
    },
    {
      "cell_type": "markdown",
      "source": [
        "# separação do df de ótimos em duas faixas"
      ],
      "metadata": {
        "id": "HsGyuFhv-iOM"
      }
    },
    {
      "cell_type": "code",
      "source": [
        "start_date_01 = '2021-01-01'\n",
        "end_date_01 = '2021-05-01'\n",
        "\n",
        "start_date_02 = '2022-01-01'\n",
        "end_date_02 = '2022-05-01'"
      ],
      "metadata": {
        "id": "xolyf4Pp-r9Z"
      },
      "execution_count": null,
      "outputs": []
    },
    {
      "cell_type": "code",
      "source": [
        "df_graf_ob_faixa_idade.head(3)"
      ],
      "metadata": {
        "id": "v9iATBMwEwmX"
      },
      "execution_count": null,
      "outputs": []
    },
    {
      "cell_type": "code",
      "source": [
        "df_graf_ob_faixa_idade.dtypes"
      ],
      "metadata": {
        "id": "J50HqlygKMdV"
      },
      "execution_count": null,
      "outputs": []
    },
    {
      "cell_type": "code",
      "source": [
        "mask = (df_graf_ob_faixa_idade['dataObito'] > start_date_01) & (df_graf_ob_faixa_idade['dataObito'] <= end_date_01)"
      ],
      "metadata": {
        "id": "KzxxyVDwEhsD"
      },
      "execution_count": null,
      "outputs": []
    },
    {
      "cell_type": "code",
      "source": [
        "df_graf_semestre = df_graf_ob_faixa_idade.loc[mask]\n",
        "df_graf_semestre.head(10)"
      ],
      "metadata": {
        "id": "vg5jilKbJ493"
      },
      "execution_count": null,
      "outputs": []
    },
    {
      "cell_type": "code",
      "metadata": {
        "id": "c4OouuJi3YxN"
      },
      "source": [
        "df_3 = df_graf_ob_faixa_idade.pivot(index = 'dataObito', columns = 'faixaEtaria', values = \"total_dia\")\n",
        "#df_3"
      ],
      "execution_count": null,
      "outputs": []
    },
    {
      "cell_type": "code",
      "metadata": {
        "id": "3tFSr1Do3hat"
      },
      "source": [
        "df_4 = df_3.reset_index()\n",
        "#df_4"
      ],
      "execution_count": null,
      "outputs": []
    },
    {
      "cell_type": "code",
      "metadata": {
        "id": "lUahUZBk3l5-"
      },
      "source": [
        "grouped_mes_faixa_idade_01 = df_graf_ob_faixa_idade.groupby([\"short_date\", \"faixaEtaria\"])[\"total_dia\"].count()\n",
        "grouped_mes_faixa_idade_01"
      ],
      "execution_count": null,
      "outputs": []
    },
    {
      "cell_type": "code",
      "metadata": {
        "id": "jrvrQEdh3oRr"
      },
      "source": [
        "grouped_mes_faixa_idade_02 = df_graf_ob_faixa_idade.groupby([\"short_date\", \"faixaEtaria\"])[\"total_dia\"].count().reset_index()\n",
        "grouped_mes_faixa_idade_02"
      ],
      "execution_count": null,
      "outputs": []
    },
    {
      "cell_type": "code",
      "metadata": {
        "id": "H0YZNSAq3qOP"
      },
      "source": [
        "df_g3 = grouped_mes_faixa_idade_02.pivot(index = 'short_date', columns = 'faixaEtaria', values = \"total_dia\")\n",
        "df_g3.head(2)"
      ],
      "execution_count": null,
      "outputs": []
    },
    {
      "cell_type": "code",
      "metadata": {
        "id": "tpW4cOAL3t5G"
      },
      "source": [
        "df_g4 = df_g3.reset_index()\n",
        "df_g4.head(2)"
      ],
      "execution_count": null,
      "outputs": []
    },
    {
      "cell_type": "code",
      "source": [
        "df_g4.sort_values(by = 'short_date',ascending=True ,inplace=True)"
      ],
      "metadata": {
        "id": "R0GmJhMGXniu"
      },
      "execution_count": null,
      "outputs": []
    },
    {
      "cell_type": "markdown",
      "metadata": {
        "id": "9c-G4COW33OQ"
      },
      "source": [
        "# Gráficos"
      ]
    },
    {
      "cell_type": "markdown",
      "metadata": {
        "id": "JCqkL1c136On"
      },
      "source": [
        "**Gráfico: Proporção de óbito por faixa etária por mês**"
      ]
    },
    {
      "cell_type": "code",
      "metadata": {
        "id": "CH8EfTiz3wH_"
      },
      "source": [
        "import plotly.graph_objects as px\n",
        "\n",
        "\n",
        "x = ['A', 'B', 'C', 'D']\n",
        "\n",
        "plot = px.Figure(data=[\n",
        "          go.Bar(\n",
        "\tname = '00 a 04 anos',\n",
        "\tx = df_g4['short_date'],\n",
        "  y = df_g4['00 a 04 anos']\n",
        "\n",
        "  \n",
        "),\n",
        "\t\t\t\t\tgo.Bar(\n",
        "\tname = '05 a 09 anos',\n",
        "\tx = df_g4['short_date'],\n",
        "\ty = df_g4['05 a 09 anos']\n",
        "),\n",
        "\n",
        "        go.Bar(\n",
        "\tname = '10 a 14 anos',\n",
        "\tx = df_g4['short_date'],\n",
        "\ty = df_g4['10 a 14 anos']\n",
        "),\n",
        "        go.Bar(\n",
        "\tname = '15 a 19 anos',\n",
        "\tx = df_g4['short_date'],\n",
        "\ty = df_g4['15 a 19 anos']\n",
        "),\n",
        "       go.Bar(\n",
        "\tname = '20 a 24 anos',\n",
        "\tx = df_g4['short_date'],\n",
        "\ty = df_g4['20 a 24 anos']\n",
        "),\n",
        "      go.Bar(\n",
        "\tname = '25 a 29 anos',\n",
        "\tx = df_g4['short_date'],\n",
        "\ty = df_g4['25 a 29 anos']\n",
        "),\n",
        "      go.Bar(\n",
        "\tname = '30 a 34 anos',\n",
        "\tx = df_g4['short_date'],\n",
        "\ty = df_g4['30 a 34 anos']\n",
        "),\n",
        "      go.Bar(\n",
        "\tname = '35 a 39 anos',\n",
        "\tx = df_g4['short_date'],\n",
        "\ty = df_g4['35 a 39 anos']\n",
        "),\n",
        "      go.Bar(\n",
        "\tname = '40 a 44 anos',\n",
        "\tx = df_g4['short_date'],\n",
        "\ty = df_g4['40 a 44 anos']\n",
        "),\n",
        "      go.Bar(\n",
        "\tname = '45 a 49 anos',\n",
        "\tx = df_g4['short_date'],\n",
        "\ty = df_g4['45 a 49 anos']\n",
        "),\n",
        "      go.Bar(\n",
        "\tname = '50 a 54 anos',\n",
        "\tx = df_g4['short_date'],\n",
        "\ty = df_g4['50 a 54 anos']\n",
        "),\n",
        "      go.Bar(\n",
        "\tname = '55 a 59 anos',\n",
        "\tx = df_g4['short_date'],\n",
        "\ty = df_g4['55 a 59 anos']\n",
        "),\n",
        "      go.Bar(\n",
        "\tname = '60 a 64 anos',\n",
        "\tx = df_g4['short_date'],\n",
        "\ty = df_g4['60 a 64 anos']\n",
        "),\n",
        "      go.Bar(\n",
        "\tname = '65 a 69 anos',\n",
        "\tx = df_g4['short_date'],\n",
        "\ty = df_g4['65 a 69 anos']\n",
        "),\n",
        "      go.Bar(\n",
        "\tname = '70 a 74 anos',\n",
        "\tx = df_g4['short_date'],\n",
        "\ty = df_g4['70 a 74 anos']\n",
        "),\n",
        "  \n",
        "      go.Bar(\n",
        "\tname = '75 a 79 anos',\n",
        "\tx = df_g4['short_date'],\n",
        "\ty = df_g4['75 a 79 anos']\n",
        "),\n",
        "      go.Bar(\n",
        "\tname = '80 ou mais',\n",
        "\tx = df_g4['short_date'],\n",
        "\ty = df_g4['80 ou mais']\n",
        ")\n",
        "\n",
        "\n",
        "])\n",
        "\n",
        "plot.update_layout(barmode='stack')\n",
        "\t\t\t\t\n",
        "plot.show()\n"
      ],
      "execution_count": null,
      "outputs": []
    },
    {
      "cell_type": "markdown",
      "metadata": {
        "id": "yZShy2k64Rnj"
      },
      "source": [
        "**Gráfico: Proporção de óbito por faixa etária por dia**"
      ]
    },
    {
      "cell_type": "code",
      "metadata": {
        "id": "nbrXz_PC4J56"
      },
      "source": [
        "df_3.reset_index().head(2)"
      ],
      "execution_count": null,
      "outputs": []
    },
    {
      "cell_type": "code",
      "metadata": {
        "id": "_dtfF3tX4YSU"
      },
      "source": [
        "df_3.columns"
      ],
      "execution_count": null,
      "outputs": []
    },
    {
      "cell_type": "markdown",
      "metadata": {
        "id": "0yhzELVB4bKR"
      },
      "source": [
        "**Óbitos no período**"
      ]
    },
    {
      "cell_type": "markdown",
      "metadata": {
        "id": "dk4qc-hi4epx"
      },
      "source": [
        "**Gráfico de óbitos por dia**"
      ]
    },
    {
      "cell_type": "code",
      "metadata": {
        "id": "rRrqUyvF4YmO"
      },
      "source": [
        "df_gr_obito"
      ],
      "execution_count": null,
      "outputs": []
    },
    {
      "cell_type": "code",
      "metadata": {
        "id": "6IbviVF-4g3T"
      },
      "source": [
        "fig = go.Figure(data=[\n",
        "    go.Bar(x= df_gr_obito['dataObito'], y= df_gr_obito['total_obito_dia'], marker=dict(color='orangered')),\n",
        "])\n",
        "\n",
        "# gráfico\n",
        "fig.update_layout(\n",
        "    title='Total de óbitos de Covid-19 por dia no estado do Ceará',\n",
        "    xaxis_tickfont_size=24,\n",
        "    xaxis = dict(\n",
        "        title='Período',\n",
        "        titlefont_size=16,\n",
        "        tickfont_size=14,\n",
        "    ),\n",
        "    yaxis = dict(\n",
        "        title='Número de óbitos',\n",
        "        titlefont_size=16,\n",
        "        tickfont_size=14,\n",
        "    ), xaxis_tickangle=90)\n",
        "\n",
        "fig.show()"
      ],
      "execution_count": null,
      "outputs": []
    },
    {
      "cell_type": "markdown",
      "metadata": {
        "id": "CLFHu4ib4nI-"
      },
      "source": [
        "**Gráfico : Acumulado de óbitos até a presente data**"
      ]
    },
    {
      "cell_type": "code",
      "metadata": {
        "id": "p3ER-QvJ4jTG"
      },
      "source": [
        "fig = go.Figure(data=[\n",
        "    go.Bar(x= df_gr_obito['dataObito'], y= df_gr_obito['total_acumulado_obito'], marker=dict(color='orangered')),\n",
        "])\n",
        "\n",
        "# gráfico\n",
        "fig.update_layout(\n",
        "    title='Número de óbitos acumulados de Covid-19 até a presente data no estado do Ceará',\n",
        "    xaxis_tickfont_size=24,\n",
        "    xaxis = dict(\n",
        "        title='Período',\n",
        "        titlefont_size=16,\n",
        "        tickfont_size=14,\n",
        "    ),\n",
        "    yaxis = dict(\n",
        "        title='Número de óbitos',\n",
        "        titlefont_size=16,\n",
        "        tickfont_size=14,\n",
        "    ), xaxis_tickangle=90)\n",
        "\n",
        "fig.show()"
      ],
      "execution_count": null,
      "outputs": []
    },
    {
      "cell_type": "code",
      "metadata": {
        "id": "8KlflZuT4pwi"
      },
      "source": [
        "# Gerar novo df para o gráfico de casos confirmados no período\n",
        "\n",
        "df_gr_conf = (pd.to_datetime(df_confirmados['dataResultadoExame'])\n",
        "       .dt.floor('d')\n",
        "       .value_counts()\n",
        "       .rename_axis('data_result_exame')\n",
        "       .reset_index(name='total_caso_conf_dia'))\n",
        "#print (df_gr_conf)\n",
        "df_gr_conf.sort_values('data_result_exame', inplace=True)"
      ],
      "execution_count": null,
      "outputs": []
    },
    {
      "cell_type": "code",
      "metadata": {
        "id": "uR_I7ngG4s1M"
      },
      "source": [
        "# Cálculo da média móvel de confirmados por semana e por mes\n",
        "df_gr_conf['MA7'] = df_gr_conf.iloc[:,1].rolling(window=7).mean()\n",
        "df_gr_conf['MA30'] = df_gr_conf.iloc[:,1].rolling(window=30).mean()"
      ],
      "execution_count": null,
      "outputs": []
    },
    {
      "cell_type": "code",
      "metadata": {
        "id": "XaZ9z05y4uul"
      },
      "source": [
        "df_gr_conf.sort_values('data_result_exame', inplace= True)\n",
        "#df_gr_conf"
      ],
      "execution_count": null,
      "outputs": []
    },
    {
      "cell_type": "code",
      "metadata": {
        "id": "mfWqc_hU4wYh"
      },
      "source": [
        "df_gr_conf.head()"
      ],
      "execution_count": null,
      "outputs": []
    },
    {
      "cell_type": "markdown",
      "metadata": {
        "id": "nRfV212v41H9"
      },
      "source": [
        "**Gráfico : Acumulado de casos confirmados no período**"
      ]
    },
    {
      "cell_type": "markdown",
      "metadata": {
        "id": "JrnFFwyj44vl"
      },
      "source": [
        "**Gerar grupo de faixa de idade por óbito**"
      ]
    },
    {
      "cell_type": "code",
      "metadata": {
        "id": "zJl_Pgfr4x82"
      },
      "source": [
        "counts_obitos_faixa_idade = df_obitos.groupby(['faixaEtaria', 'sexoCaso']).faixaEtaria.count().unstack()\n",
        "#counts_obitos_faixa_idade"
      ],
      "execution_count": null,
      "outputs": []
    },
    {
      "cell_type": "markdown",
      "metadata": {
        "id": "lzh80Nie49yF"
      },
      "source": [
        "**Gerar grupo de faixa de idade por casos confirmados**"
      ]
    },
    {
      "cell_type": "code",
      "metadata": {
        "id": "K8dVEA9Q47lu"
      },
      "source": [
        "counts_confirmados_faixa_idade = df_confirmados.groupby(['faixaEtaria', 'sexoCaso']).faixaEtaria.count().unstack()\n",
        "#counts_confirmados_faixa_idade"
      ],
      "execution_count": null,
      "outputs": []
    },
    {
      "cell_type": "code",
      "metadata": {
        "id": "dVuVd1T-5APs"
      },
      "source": [
        "dfc_faixa_idade = counts_confirmados_faixa_idade.reset_index()\n",
        "#dfc_faixa_idade"
      ],
      "execution_count": null,
      "outputs": []
    },
    {
      "cell_type": "markdown",
      "metadata": {
        "id": "Gugpoa195E7m"
      },
      "source": [
        "**Gráfico : Total de casos confirmados por faixa de idade**"
      ]
    },
    {
      "cell_type": "code",
      "metadata": {
        "id": "A3iobtNT5CLW"
      },
      "source": [
        "import plotly.express as px\n",
        "\n",
        "sexos = ['MASCULINO', 'FEMININO']\n",
        "faixas  = ['0-4', '5-9', '10-14', '15-19', '20-24', '25-29', '30-34', '35-39', '40-44', '45-49',\n",
        "           '50-54', '55-59', '60-64', '65-69 ', '70-74', '75-79', '80+']\n",
        "\n",
        "\n",
        "\n",
        "fig = go.Figure(data=[\n",
        "    go.Bar(name='MASCULINO', x= faixas, y= dfc_faixa_idade['MASCULINO']),\n",
        "    go.Bar(name='FEMININO', x= faixas, y= dfc_faixa_idade['FEMININO'])\n",
        "])\n",
        "# Change the bar mode\n",
        "fig.update_layout(barmode='group')\n",
        "fig.update_layout(title_text='Total de casos confirmados por faixa de idade')\n",
        "fig.show()\n"
      ],
      "execution_count": null,
      "outputs": []
    },
    {
      "cell_type": "code",
      "metadata": {
        "id": "obDkEF525Hfa"
      },
      "source": [
        "df_count_obito_faixa = counts_obitos_faixa_idade.reset_index()\n",
        "df_count_obito_faixa"
      ],
      "execution_count": null,
      "outputs": []
    },
    {
      "cell_type": "markdown",
      "metadata": {
        "id": "erLuNFAc5L0o"
      },
      "source": [
        "**Gráfico: Total de óbitos por faixa de idade**"
      ]
    },
    {
      "cell_type": "code",
      "metadata": {
        "id": "6Q3dpLBi5Jp4"
      },
      "source": [
        "import plotly.express as px\n",
        "\n",
        "sexos = ['MASCULINO', 'FEMININO']\n",
        "faixas  = ['0-4', '5-9', '10-14', '15-19', '20-24', '25-29', '30-34', '35-39', '40-44', '45-49',\n",
        "           '50-54', '55-59', '60-64', '65-69 ', '70-74', '75-79', '80+']\n",
        "\n",
        "\n",
        "\n",
        "fig = go.Figure(data=[\n",
        "    go.Bar(name='MASCULINO', x= faixas, y= df_count_obito_faixa['MASCULINO']),\n",
        "    go.Bar(name='FEMININO', x= faixas, y= df_count_obito_faixa['FEMININO'])\n",
        "])\n",
        "# Change the bar mode\n",
        "fig.update_layout(barmode='group')\n",
        "fig.update_layout(title_text='Total de óbitos por faixa de idade')\n",
        "fig.show()\n",
        "\n",
        "\n",
        "\n"
      ],
      "execution_count": null,
      "outputs": []
    },
    {
      "cell_type": "markdown",
      "metadata": {
        "id": "Gd7Mv4mm5TGZ"
      },
      "source": [
        "#Óbitos no período"
      ]
    },
    {
      "cell_type": "code",
      "metadata": {
        "id": "tLMboFR75OQ9"
      },
      "source": [
        "from plotly.subplots import make_subplots\n",
        "\n",
        "# Plot \n",
        "fig = make_subplots(specs=[[{\"secondary_y\": True}]])\n",
        "\n",
        "fig = px.bar(df_gr_obito, x='dataObito', y='total_obito_dia')\n",
        "\n",
        "# Only thing I figured is - I could do this \n",
        "#fig.add_scatter(x=df_gr_conf['data_result_exame'], y= df_gr_conf['MA'])\n",
        "\n",
        "# Show plot \n",
        "\n",
        "fig.add_trace(go.Scatter(x= df_gr_obito['dataObito'], y= df_gr_obito['MA7'], name='Média Móvel de óbitos de uma semana',\n",
        "                        line=dict(color='red',width=2)))\n",
        "\n",
        "fig.add_trace(go.Scatter(x= df_gr_obito['dataObito'], y= df_gr_obito['MA30'], name='Média Móvel de um mês',\n",
        "                        line=dict(color='orange',width=2)))\n",
        "\n",
        "fig.update_layout(title='Quantidade de óbitos por dia comparados com a media móvel semanal e mensal no período',\n",
        "                   xaxis_title='Mês',\n",
        "                   yaxis_title='Quantidade de óbitos / dia')\n",
        "fig.show()"
      ],
      "execution_count": null,
      "outputs": []
    },
    {
      "cell_type": "code",
      "metadata": {
        "id": "WYkN-NIG5bFA"
      },
      "source": [
        "df_obitos.head(2)"
      ],
      "execution_count": null,
      "outputs": []
    },
    {
      "cell_type": "markdown",
      "metadata": {
        "id": "MdWzQ0th5gFK"
      },
      "source": [
        "**Distribuição de óbitos por sexo do paciente**"
      ]
    },
    {
      "cell_type": "code",
      "metadata": {
        "id": "kjULfGPm5dp3"
      },
      "source": [
        "obito_by_sexo = df_obitos.groupby([ 'sexoCaso', 'racaCor']).size().unstack('racaCor')\n",
        "obito_by_sexo"
      ],
      "execution_count": null,
      "outputs": []
    },
    {
      "cell_type": "code",
      "metadata": {
        "id": "ZD87bN4w5i3i"
      },
      "source": [
        "# Concatenar colunas iguais, com nomes diferentes em uma nova\n",
        "#obito_by_sexo['nao informado'] = obito_by_sexo['.0'] +  obito_by_sexo['Ignorado'] + obito_by_sexo['Não Informado'] + obito_by_sexo['Sem Informacao']\n",
        "#obito_by_sexo.drop(['.0', 'Ignorado', 'Não Informado','Sem Informacao' ], axis=1, inplace= True)\n",
        "#obito_by_sexo"
      ],
      "execution_count": null,
      "outputs": []
    },
    {
      "cell_type": "code",
      "metadata": {
        "id": "LduhkYKt5mHy"
      },
      "source": [
        "# contar por racaCor paciente e sexo\n",
        "counts_casos_raca_cor = df_obitos.groupby(['racaCor', 'sexoCaso']).racaCor.count().unstack()\n",
        "counts_casos_raca_cor"
      ],
      "execution_count": null,
      "outputs": []
    },
    {
      "cell_type": "code",
      "metadata": {
        "id": "shWlQfGU53y8"
      },
      "source": [
        "df_counts_casos_raca_cor = counts_casos_raca_cor.reset_index()\n",
        "df_counts_casos_raca_cor"
      ],
      "execution_count": null,
      "outputs": []
    },
    {
      "cell_type": "markdown",
      "metadata": {
        "id": "zp0JBRF359Dg"
      },
      "source": [
        "**Gráfico: Total de óbitos por raça cor**"
      ]
    },
    {
      "cell_type": "code",
      "metadata": {
        "id": "mx3j8Of7560-"
      },
      "source": [
        "import plotly.express as px\n",
        "\n",
        "sexos = ['MASCULINO', 'FEMININO']\n",
        "faixas  = ['Amarela\t', 'Branca', 'Ignorado', 'Indígena', 'Não Informado', 'Parda', 'Preta', 'Sem Informação']\n",
        "\n",
        "\n",
        "\n",
        "fig = go.Figure(data=[\n",
        "    go.Bar(name='MASCULINO', x= df_counts_casos_raca_cor.racaCor\t, y= df_counts_casos_raca_cor['MASCULINO']),\n",
        "    go.Bar(name='FEMININO', x= df_counts_casos_raca_cor.racaCor, y= df_counts_casos_raca_cor['FEMININO'])\n",
        "])\n",
        "# Change the bar mode\n",
        "fig.update_layout(barmode='group')\n",
        "fig.update_layout(title_text='Total de óbitos por raça cor')\n",
        "fig.show()"
      ],
      "execution_count": null,
      "outputs": []
    },
    {
      "cell_type": "markdown",
      "metadata": {
        "id": "ENOkLwoJ6EWk"
      },
      "source": [
        "**Nova coluna para o aculumado ate a data presente**"
      ]
    },
    {
      "cell_type": "code",
      "metadata": {
        "id": "u6_NQ22A6BpN"
      },
      "source": [
        "df_gr_conf['total_acumulado'] = df_gr_conf['total_caso_conf_dia'].cumsum()\n",
        "#df_gr_conf"
      ],
      "execution_count": null,
      "outputs": []
    },
    {
      "cell_type": "code",
      "metadata": {
        "id": "hVwjGx-y6GkO"
      },
      "source": [
        "from plotly.subplots import make_subplots\n",
        "# Plot \n",
        "fig = make_subplots(specs=[[{\"secondary_y\": True}]])\n",
        "\n",
        "fig = px.bar(df_gr_conf, x='data_result_exame', y='total_caso_conf_dia',)\n",
        "\n",
        "# Only thing I figured is - I could do this \n",
        "#fig.add_scatter(x=df_gr_conf['data_result_exame'], y= df_gr_conf['MA'])\n",
        "\n",
        "# Show plot \n",
        "\n",
        "fig.add_trace(go.Scatter(x=df_gr_conf['data_result_exame'], y= df_gr_conf['MA7'], name='Média Móvel de uma semana', mode='lines',\n",
        "                        line=dict(color='red',width=2)))\n",
        "\n",
        "fig.add_trace(go.Scatter(x=df_gr_conf['data_result_exame'], y= df_gr_conf['MA30'], name='Média Móvel de um mês', mode='lines',\n",
        "                        line=dict(color='orange',width=2)))\n",
        "\n",
        "fig.update_layout(title='Quantidade de casos confirmados no período',\n",
        "                   xaxis_title='Mês',\n",
        "                   yaxis_title='Quantidade de casos / dia')\n",
        "fig.show()"
      ],
      "execution_count": null,
      "outputs": []
    },
    {
      "cell_type": "code",
      "metadata": {
        "id": "Kz6jwOwg6JbD"
      },
      "source": [
        "from plotly.subplots import make_subplots\n",
        "\n",
        "# Plot \n",
        "fig = make_subplots(specs=[[{\"secondary_y\": True}]])\n",
        "\n",
        "fig = px.bar(df_gr_obito, x='dataObito', y='total_obito_dia')\n",
        "\n",
        "# Only thing I figured is - I could do this \n",
        "#fig.add_scatter(x=df_gr_conf['data_result_exame'], y= df_gr_conf['MA'])\n",
        "\n",
        "# Show plot \n",
        "\n",
        "fig.add_trace(go.Scatter(x= df_gr_obito['dataObito'], y= df_gr_obito['MA7'], name='Média Móvel de óbitos de uma semana',\n",
        "                        line=dict(color='red',width=2)))\n",
        "\n",
        "fig.add_trace(go.Scatter(x= df_gr_obito['dataObito'], y= df_gr_obito['MA30'], name='Média Móvel de um mês',\n",
        "                        line=dict(color='orange',width=2)))\n",
        "\n",
        "fig.update_layout(title='Quantidade de óbitos por dia comparados com a media móvel semanal e mensal no período',\n",
        "                   xaxis_title='Mês',\n",
        "                   yaxis_title='Quantidade de óbitos / dia')\n",
        "fig.show()"
      ],
      "execution_count": null,
      "outputs": []
    },
    {
      "cell_type": "code",
      "metadata": {
        "id": "eJoOdJjf6OfO"
      },
      "source": [
        ""
      ],
      "execution_count": null,
      "outputs": []
    }
  ]
}